{
 "cells": [
  {
   "cell_type": "markdown",
   "metadata": {},
   "source": [
    "## 1006 Sign In and Sign Out (25point(s))\n",
    "At the beginning of every day, the first person who signs in the computer room will unlock the door, and the last one who signs out will lock the door. Given the records of signing in's and out's, you are supposed to find the ones who have unlocked and locked the door on that day.\n",
    "\n",
    "### Input Specification:\n",
    "Each input file contains one test case. Each case contains the records for one day. The case starts with a positive integer M, which is the total number of records, followed by M lines, each in the format:"
   ]
  },
  {
   "cell_type": "raw",
   "metadata": {},
   "source": [
    "ID_number Sign_in_time Sign_out_time"
   ]
  },
  {
   "cell_type": "markdown",
   "metadata": {},
   "source": [
    "where times are given in the format HH:MM:SS, and ID_number is a string with no more than 15 characters.\n",
    "### Output Specification:\n",
    "For each test case, output in one line the ID numbers of the persons who have unlocked and locked the door on that day. The two ID numbers must be separated by one space.\n",
    "\n",
    "Note: It is guaranteed that the records are consistent. That is, the sign in time must be earlier than the sign out time for each person, and there are no two persons sign in or out at the same moment.\n",
    "### Sample Input:"
   ]
  },
  {
   "cell_type": "raw",
   "metadata": {},
   "source": [
    "3\n",
    "CS301111 15:30:28 17:00:10\n",
    "SC3021234 08:00:00 11:25:25\n",
    "CS301133 21:45:00 21:58:40"
   ]
  },
  {
   "cell_type": "markdown",
   "metadata": {},
   "source": [
    "### Sample Output:"
   ]
  },
  {
   "cell_type": "raw",
   "metadata": {},
   "source": [
    "SC3021234 CS301133"
   ]
  },
  {
   "cell_type": "code",
   "execution_count": 9,
   "metadata": {},
   "outputs": [
    {
     "name": "stdout",
     "output_type": "stream",
     "text": [
      "3\n",
      "CS301111 15:30:28 17:00:10\n",
      "SC3021234 08:00:00 11:25:25\n",
      "CS301133 21:45:00 21:58:40\n",
      "SC3021234 CS301133\n"
     ]
    }
   ],
   "source": [
    "m = int(input())\n",
    "time = []\n",
    "for i in range(m):\n",
    "    temp = input().split()\n",
    "    time.append(temp)\n",
    "max_h = 0\n",
    "max_m = 0\n",
    "max_s = 0\n",
    "min_h = 24\n",
    "min_m = 60\n",
    "min_s = 60\n",
    "for i in range(m):\n",
    "    hour,month,second = map(int,time[i][1].split(':'))\n",
    "    h,m,s = map(int,time[i][2].split(':'))\n",
    "    if hour < min_h:\n",
    "        min_id = time[i][0]\n",
    "        min_h = hour\n",
    "        min_m = month\n",
    "        min_s = second\n",
    "    elif hour == min_h and month < min_m:\n",
    "        min_id = time[i][0]\n",
    "        min_m = month\n",
    "        min_s = second\n",
    "    elif hour == min_h and month == min_m and second < min_s:\n",
    "        min_id = time[i][0]\n",
    "        min_s = second\n",
    "    if h > max_h:\n",
    "        max_id = time[i][0]\n",
    "        max_h = h\n",
    "        max_m = m\n",
    "        max_s = s\n",
    "    elif h == max_h and m > max_m:\n",
    "        max_id = time[i][0]\n",
    "        max_m = m\n",
    "        max_s = s\n",
    "    elif h == max_h and m == max_m and s > max_s:\n",
    "        max_id = time[i][0]\n",
    "        max_s = s\n",
    "\n",
    "print(min_id,max_id)"
   ]
  },
  {
   "cell_type": "code",
   "execution_count": 10,
   "metadata": {},
   "outputs": [
    {
     "name": "stdout",
     "output_type": "stream",
     "text": [
      "3\n",
      "CS301111 15:30:28 17:00:10\n",
      "SC3021234 08:00:00 11:25:25\n",
      "CS301133 21:45:00 21:58:40\n",
      "SC3021234 CS301133\n"
     ]
    }
   ],
   "source": [
    "#网上看到了一个非常简洁的，直接添加到列表排序输出。\n",
    "m = int(input())\n",
    "res = []\n",
    "for i in range(m):\n",
    "    a,b,c = input().split()\n",
    "    b = tuple(map(int,b.split(':')))\n",
    "    c = tuple(map(int,c.split(':')))\n",
    "    res.append((a,b,c))\n",
    "\n",
    "min_id = sorted(res,key = lambda x:x[1])[0][0]\n",
    "max_id = sorted(res, key = lambda x:x[2],reverse=True)[0][0]\n",
    "print(min_id,max_id)"
   ]
  },
  {
   "cell_type": "markdown",
   "metadata": {},
   "source": [
    "## 1007 Maximum Subsequence Sum (25point(s))\n",
    "Given a sequence of K integers {$ N_{1},N_{2}, \\dots,N_{K}$},A continuous subsequence is defined to be {$ N_{i},N_{i+1}, \\dots,N_{j}$} where 1≤i≤j≤K. The Maximum Subsequence is the continuous subsequence which has the largest sum of its elements. For example, given sequence { -2, 11, -4, 13, -5, -2 }, its maximum subsequence is { 11, -4, 13 } with the largest sum being 20.\n",
    "\n",
    "Now you are supposed to find the largest sum, together with the first and the last numbers of the maximum subsequence.\n",
    "### Input Specification:\n",
    "Each input file contains one test case. Each case occupies two lines. The first line contains a positive integer K (≤10000). The second line contains K numbers, separated by a space.\n",
    "### Output Specification:\n",
    "For each test case, output in one line the largest sum, together with the first and the last numbers of the maximum subsequence. The numbers must be separated by one space, but there must be no extra space at the end of a line. In case that the maximum subsequence is not unique, output the one with the smallest indices i and j (as shown by the sample case). If all the K numbers are negative, then its maximum sum is defined to be 0, and you are supposed to output the first and the last numbers of the whole sequence.\n",
    "### Sample Input:"
   ]
  },
  {
   "cell_type": "raw",
   "metadata": {},
   "source": [
    "10\n",
    "-10 1 2 3 4 -5 -23 3 7 -21"
   ]
  },
  {
   "cell_type": "markdown",
   "metadata": {},
   "source": [
    "### Sample Output:"
   ]
  },
  {
   "cell_type": "raw",
   "metadata": {},
   "source": [
    "10 1 4"
   ]
  },
  {
   "cell_type": "markdown",
   "metadata": {},
   "source": [
    "这道题可以用动态规划，用一个列表dp储存以到当前位置的最大子序和，如果小于0，则最大子序和为0.然后遍历dp列表找到最大的子序和，并且这个数的索引位置就是序列的结束位置。然后从该位置逆序遍历dp列表，找到第一个0，在0的下一个位置就是最大子序列的开始位置。如果找不到0的话，就返回0，也就是列表开始的位置.\n",
    "<br/>做的时候想了一下，可以在比较大小的时候直接记录最大值和起始位置，不需要再回去排序索引，很麻烦。"
   ]
  },
  {
   "cell_type": "code",
   "execution_count": 63,
   "metadata": {},
   "outputs": [
    {
     "name": "stdout",
     "output_type": "stream",
     "text": [
      "10\n",
      "-10 1 2 3 4 -5 -23 3 7 -21\n",
      "10 1 4\n"
     ]
    }
   ],
   "source": [
    "n = int(input())\n",
    "num = list(map(int,input().split()))\n",
    "res = -1\n",
    "temp = 0\n",
    "temp_start,start,end = 0,0,0\n",
    "#这题目有一个坑点就是他只说了全部都是负数的时候才要输出首尾，但是如果是只有0和负数的情况就要输出0了。\n",
    "if len([x for x in num if x >=0]) ==0:\n",
    "    print(0,num[0],num[-1])\n",
    "    #想了一下好像不用dp数组\n",
    "else:\n",
    "    for i in range(n):\n",
    "        temp = temp + num[i]\n",
    "        if temp < 0:\n",
    "            temp = 0\n",
    "            temp_start = i+1\n",
    "        elif temp > res:\n",
    "            res = temp\n",
    "            start = temp_start\n",
    "            end = i\n",
    "    print(res,num[start],num[end])"
   ]
  },
  {
   "cell_type": "markdown",
   "metadata": {},
   "source": [
    "## 1008 Elevator (20point(s))\n",
    "The highest building in our city has only one elevator. A request list is made up with N positive numbers. The numbers denote at which floors the elevator will stop, in specified order. It costs 6 seconds to move the elevator up one floor, and 4 seconds to move down one floor. The elevator will stay for 5 seconds at each stop.\n",
    "\n",
    "For a given request list, you are to compute the total time spent to fulfill the requests on the list. The elevator is on the 0th floor at the beginning and does not have to return to the ground floor when the requests are fulfilled.\n",
    "### Input Specification:\n",
    "Each input file contains one test case. Each case contains a positive integer N, followed by N positive numbers. All the numbers in the input are less than 100.\n",
    "\n",
    "### Output Specification:\n",
    "For each test case, print the total time on a single line.\n",
    "\n",
    "### Sample Input:"
   ]
  },
  {
   "cell_type": "raw",
   "metadata": {},
   "source": [
    "3 2 3 1"
   ]
  },
  {
   "cell_type": "markdown",
   "metadata": {},
   "source": [
    "### Sample Output:"
   ]
  },
  {
   "cell_type": "raw",
   "metadata": {},
   "source": [
    "41"
   ]
  },
  {
   "cell_type": "code",
   "execution_count": 64,
   "metadata": {},
   "outputs": [
    {
     "name": "stdout",
     "output_type": "stream",
     "text": [
      "3 2 3 1\n",
      "41\n"
     ]
    }
   ],
   "source": [
    "data = list(map(int,input().split()))\n",
    "n = data[0]\n",
    "num = data[1:]\n",
    "start = 0\n",
    "res = 0\n",
    "for i in range(n):\n",
    "    time = start-num[i]\n",
    "    if time < 0:\n",
    "        res += 6*abs(time) + 5\n",
    "    else:\n",
    "        res += 4 * time + 5\n",
    "    start = num[i]\n",
    "print(res)"
   ]
  },
  {
   "cell_type": "markdown",
   "metadata": {},
   "source": [
    "## 1009 Product of Polynomials (25point(s))\n",
    "This time, you are supposed to find A×B where A and B are two polynomials.\n",
    "\n",
    "### Input Specification:\n",
    "Each input file contains one test case. Each case occupies 2 lines, and each line contains the information of a polynomial: $$ K,N_{1},a_{N1},N_{2},a_{N2},\\dots,N_{K},a_{NK} $$\n",
    "where K is the number of nonzero terms in the polynomial,$N_{i}$ and $a_{N_{i}}(i = 1,2,\\dots,K)$ are the exponents and coefficients, respectively. It is given that $1\\leq K \\leq 10, 0\\leq N_{K} < \\dots < N_{2} < N_{1} \\leq 1000$.\n",
    "### Output Specification:\n",
    "For each test case you should output the product of A and B in one line, with the same format as the input. Notice that there must be NO extra space at the end of each line. Please be accurate up to 1 decimal place.\n",
    "\n",
    "### Sample Input:"
   ]
  },
  {
   "cell_type": "raw",
   "metadata": {},
   "source": [
    "2 1 2.4 0 3.2\n",
    "2 2 1.5 1 0.5"
   ]
  },
  {
   "cell_type": "markdown",
   "metadata": {},
   "source": [
    "### Sample Output:"
   ]
  },
  {
   "cell_type": "raw",
   "metadata": {},
   "source": [
    "3 3 3.6 2 6.0 1 1.6"
   ]
  },
  {
   "cell_type": "markdown",
   "metadata": {},
   "source": [
    "这道题不知道为什么用字典储存结果就测试点3出错，换成列表就没问题了，不知道问题出在哪里。等之后有空再看看。"
   ]
  },
  {
   "cell_type": "code",
   "execution_count": 135,
   "metadata": {},
   "outputs": [
    {
     "name": "stdout",
     "output_type": "stream",
     "text": [
      "2 1 2.4 0 3.2 \n",
      "2 2 1.5 1 0.5\n",
      "3 3 3.6 2 6.0 1 1.6\n"
     ]
    }
   ],
   "source": [
    "m = list(map(float,input().split()))\n",
    "n = list(map(float,input().split()))\n",
    "num1 = int(m[0])\n",
    "num2 = int(n[0])\n",
    "m_num = m[1:]\n",
    "n_num = n[1:]\n",
    "res = {}\n",
    "output = []\n",
    "result = [[x,0] for x in range(2001)]\n",
    "for i in range(0,num1*2,2):\n",
    "    for j in range(0,num2*2,2):\n",
    "        x = int(m_num[i])+int(n_num[j])\n",
    "        y = round(m_num[i+1]*n_num[j+1]*10)/10\n",
    "       #if x not in res:\n",
    "        #    res[x] = y\n",
    "        #else:\n",
    "         #   res[x] += y\"\"\"\n",
    "        result[x][1] += y\n",
    "#注意如果系数为0的话要删除，个数就发生了变化，这是一个坑点，测试点0就是测试这种情况\n",
    "# '''for x,y in res.items():\n",
    "#     if y != 0:\n",
    "#         output.append(str(x)) \n",
    "#         output.append(str(y))\n",
    "#         cnt += 1\n",
    "# output = [str(cnt)]+output\n",
    "# print(\" \".join(output))'''\n",
    "output = str(len([x for x in result if x[1] !=0]))+\" \"\n",
    "for x in result[::-1]:\n",
    "    if x[1]!=0:\n",
    "        output = output + str(x[0])+\" \"+ \"{:.1f}\" .format(x[1])+\" \"\n",
    "print(output[:-1])"
   ]
  },
  {
   "cell_type": "markdown",
   "metadata": {},
   "source": [
    "## 1010 Radix (25point(s))\n",
    "Given a pair of positive integers, for example, 6 and 110, can this equation 6 = 110 be true? The answer is yes, if 6 is a decimal number and 110 is a binary number.\n",
    "\n",
    "Now for any pair of positive integers $N_{1}$ and $N_{2}$, your task is to find the radix of one number while that of the other is given.\n",
    "### Input Specification:\n",
    "Each input file contains one test case. Each case occupies a line which contains 4 positive integers:"
   ]
  },
  {
   "cell_type": "raw",
   "metadata": {},
   "source": [
    "N1 N2 tag radix"
   ]
  },
  {
   "cell_type": "markdown",
   "metadata": {},
   "source": [
    "Here N1 and N2 each has no more than 10 digits. A digit is less than its radix and is chosen from the set { 0-9, a-z } where 0-9 represent the decimal numbers 0-9, and a-z represent the decimal numbers 10-35. The last number radix is the radix of N1 if tag is 1, or of N2 if tag is 2.\n",
    "### Output Specification:\n",
    "For each test case, print in one line the radix of the other number so that the equation N1 = N2 is true. If the equation is impossible, print Impossible. If the solution is not unique, output the smallest possible radix.\n",
    "\n",
    "### Sample Input 1:"
   ]
  },
  {
   "cell_type": "raw",
   "metadata": {},
   "source": [
    "6 110 1 10"
   ]
  },
  {
   "cell_type": "markdown",
   "metadata": {},
   "source": [
    "### Sample Output 1:"
   ]
  },
  {
   "cell_type": "raw",
   "metadata": {},
   "source": [
    "2"
   ]
  },
  {
   "cell_type": "markdown",
   "metadata": {},
   "source": [
    "### Sample Input 2:"
   ]
  },
  {
   "cell_type": "raw",
   "metadata": {},
   "source": [
    "1 ab 1 2"
   ]
  },
  {
   "cell_type": "markdown",
   "metadata": {},
   "source": [
    "### Sample Output 2:"
   ]
  },
  {
   "cell_type": "raw",
   "metadata": {},
   "source": [
    "Impossible"
   ]
  },
  {
   "cell_type": "code",
   "execution_count": 149,
   "metadata": {},
   "outputs": [
    {
     "name": "stdout",
     "output_type": "stream",
     "text": [
      "6 110 1 10\n",
      "2\n"
     ]
    }
   ],
   "source": [
    "#首先将给了基数的数转换为10进制\n",
    "#int的参数是这样的int(x,base=10)，因为题目里最大的基数是35，所以把base设为36。\n",
    "def convert(s, radix):\n",
    "    t = 0\n",
    "    point = 0\n",
    "    for x in range(len(s)):\n",
    "        t += int(s[-x-1], 36) * (radix ** point)\n",
    "        point += 1\n",
    "    return t\n",
    "#然后查找另一个数的基数，用二分查找，要不然容易超时。\n",
    "def find(target,n):\n",
    "    #找到基数的下界\n",
    "    low = max([int(x,36) for x in n]) +1\n",
    "    high = max([low,target])\n",
    "    while(low <=high):\n",
    "        base = round((low+high)/2)\n",
    "        res = convert(n,base)\n",
    "        if res == target:\n",
    "            return base\n",
    "        else:\n",
    "            if res > target:\n",
    "                high = base-1\n",
    "            elif res < target:\n",
    "                low = base + 1\n",
    "    return 'Impossible'\n",
    "\n",
    "if __name__ == '__main__':\n",
    "    num = input().split()\n",
    "    n1 = num[0]\n",
    "    n2 = num[1]\n",
    "    tag = int(num[2])\n",
    "    base = int(num[3])\n",
    "    if tag == 1:\n",
    "        n = convert(n1,base)\n",
    "        print(find(n,n2))\n",
    "    elif tag == 2:\n",
    "        n = convert(n2,base)\n",
    "        print(find(n,n1))"
   ]
  }
 ],
 "metadata": {
  "kernelspec": {
   "display_name": "Python 3",
   "language": "python",
   "name": "python3"
  },
  "language_info": {
   "codemirror_mode": {
    "name": "ipython",
    "version": 3
   },
   "file_extension": ".py",
   "mimetype": "text/x-python",
   "name": "python",
   "nbconvert_exporter": "python",
   "pygments_lexer": "ipython3",
   "version": "3.7.3"
  }
 },
 "nbformat": 4,
 "nbformat_minor": 2
}
