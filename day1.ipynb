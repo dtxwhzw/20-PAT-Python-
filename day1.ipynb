{
 "cells": [
  {
   "cell_type": "markdown",
   "metadata": {},
   "source": [
    "## 1001 A+B Format(20 point(s))"
   ]
  },
  {
   "cell_type": "markdown",
   "metadata": {},
   "source": [
    "Calculate a+b and output the sum in standard format -- that is, the digits must be separated into groups of three by commas (unless there are less than four digits).\n",
    "### Input Specification:\n",
    "Each input file contains one test case. Each case contains a pair of integers a and b where $−10^6 \\leq a, b\\leq 10^6 $.The numbers are separated by a space.\n",
    "### Output Specification:\n",
    "For each test case, you should output the sum of a and b in one line. The sum must be written in the standard format."
   ]
  },
  {
   "cell_type": "markdown",
   "metadata": {},
   "source": [
    "### Sample Input:"
   ]
  },
  {
   "cell_type": "raw",
   "metadata": {},
   "source": [
    "-1000000 9"
   ]
  },
  {
   "cell_type": "markdown",
   "metadata": {},
   "source": [
    "### Sample Output:"
   ]
  },
  {
   "cell_type": "raw",
   "metadata": {},
   "source": [
    "-999,991"
   ]
  },
  {
   "cell_type": "markdown",
   "metadata": {},
   "source": [
    "题目的要求是千分位打逗号，就想这样 1,000，是从后往前算的三个数。然后（1）当结果小于1000的时候就不用打逗号，（2）当结果大于1000000要打两个逗号，我们直接采取逆序数位数的方法，切片。"
   ]
  },
  {
   "cell_type": "code",
   "execution_count": 75,
   "metadata": {},
   "outputs": [
    {
     "name": "stdout",
     "output_type": "stream",
     "text": [
      "0 999\n",
      "999\n"
     ]
    }
   ],
   "source": [
    "a,b = input().split()\n",
    "res = int(a)+int(b)\n",
    "res = str(res)\n",
    "if len(res) < 4:\n",
    "    print(res)\n",
    "elif abs(int(res)) >= 1000000:\n",
    "    print(res[:-6]+','+res[-6:-3]+','+res[-3:])\n",
    "else:\n",
    "    print(res[:-3]+','+res[-3:])"
   ]
  },
  {
   "cell_type": "code",
   "execution_count": 76,
   "metadata": {},
   "outputs": [
    {
     "name": "stdout",
     "output_type": "stream",
     "text": [
      "1000000 1000000\n",
      "2,000,000\n"
     ]
    }
   ],
   "source": [
    "#其实还有一个更简单的办法，format有直接格式化千分位的写法。\n",
    "a,b = map(int,input().split())\n",
    "print('{:,}'.format(a+b))"
   ]
  },
  {
   "cell_type": "markdown",
   "metadata": {},
   "source": [
    "## 1002 A+B for Polynomials (25point(s))"
   ]
  },
  {
   "cell_type": "markdown",
   "metadata": {},
   "source": [
    "This time, you are supposed to find $\\textbf{A}$+$\\textbf{B}$ where A and B are two polynomials."
   ]
  },
  {
   "cell_type": "markdown",
   "metadata": {},
   "source": [
    "### Input Specification:"
   ]
  },
  {
   "cell_type": "markdown",
   "metadata": {},
   "source": [
    "Each input file contains one test case. Each case occupies 2 lines, and each line contains the information of a polynomial:$$ \\textit {K},N_{1},a_{N_1},N_{2},a_{N_2} \\dots N_{K},a_{N_K} $$\n",
    "where $ \\textit {K}$ is the number of nonzero terms in the polynomial, $N_{i}$ and $a_{N_i} (i = 1,2, \\dots,K)$ are the exponents and coefficients, respectively. It is given that $$1 \\leq K \\leq 10, 0 \\leq N_{K} \\leq \\dots \\leq N_{2} \\leq N_{1} \\leq 1000 $$"
   ]
  },
  {
   "cell_type": "markdown",
   "metadata": {},
   "source": [
    "### Output Specification:"
   ]
  },
  {
   "cell_type": "markdown",
   "metadata": {},
   "source": [
    "For each test case you should output the sum of A and B in one line, with the same format as the input. Notice that there must be NO extra space at the end of each line. Please be accurate to 1 decimal place."
   ]
  },
  {
   "cell_type": "markdown",
   "metadata": {},
   "source": [
    "### Sample Input:"
   ]
  },
  {
   "cell_type": "raw",
   "metadata": {},
   "source": [
    "2 1 2.4 0 3.2\n",
    "2 2 1.5 1 0.5"
   ]
  },
  {
   "cell_type": "markdown",
   "metadata": {},
   "source": [
    "### Sample Output:"
   ]
  },
  {
   "cell_type": "markdown",
   "metadata": {},
   "source": [
    "3 2 1.5 1 2.9 0 3.2"
   ]
  },
  {
   "cell_type": "markdown",
   "metadata": {},
   "source": [
    "这道题目好多坑啊，如果测试点2过不去的话就检查标准化输出，估计主要是那个浮点数的问题比较多。然后除123以外的测试点不通过的话要主要检测有的项被抵消了的情况。网上有人说测试点6不通过是要检测加和后结果为0的情况，我没有碰到这个情况所以就没什么感觉。"
   ]
  },
  {
   "cell_type": "code",
   "execution_count": 172,
   "metadata": {},
   "outputs": [
    {
     "name": "stdout",
     "output_type": "stream",
     "text": [
      "2 1 2.4 0 3.2 \n",
      "2 2 1.5 1 0.5\n",
      "3.0 2 1.5 1 2.9 0 3.2"
     ]
    }
   ],
   "source": [
    "a = list(map(float,input().split()))\n",
    "b = list(map(float,input().split()))\n",
    "flag = 0\n",
    "res = {}#用字典可以比较方便的储存键值对\n",
    "res_1 = []\n",
    "first = a[0]+b[0]\n",
    "for i in range(1,len(a),2):\n",
    "    res[a[i]] = a[i+1]\n",
    "    for j in range(1,len(b),2):\n",
    "        if a[i] ==b[j]:\n",
    "            res[a[i]] += b[j+1]\n",
    "            flag += 1\n",
    "        else:\n",
    "            if b[j] not in res:\n",
    "                res[b[j]] = b[j+1]\n",
    "for i in list(res.keys()):\n",
    "    if res[i] == 0:\n",
    "        flag+=1#要注意如果是零的话要这一项就被消去了，要减两次，这是一个易错点\n",
    "        res.pop(i)\n",
    "first = first - flag\n",
    "res = sorted(res.items(),key = lambda k:k[0],reverse = True)#排序完记得更新列表\n",
    "\"\"\"\n",
    "这段代码标准化输出有问题，如果用这段的话，上面的res是一个字典\n",
    "res_1.append(first)\n",
    "for key,value in res.items():\n",
    "    res_1.append(key)\n",
    "    res_1.append(value)\n",
    "if res == []:\n",
    "    print('0')\n",
    "else:\n",
    "    print(' '.join([str(i) for i in res_1]))\"\"\"\n",
    "print(int(first),end=\"\")\n",
    "for i in range(len(res)):\n",
    "    print(\" %d %.1f\"%(res[i][0],res[i][1]),end = \"\")"
   ]
  },
  {
   "cell_type": "markdown",
   "metadata": {},
   "source": [
    "## 1003 Emergency (25point(s))"
   ]
  },
  {
   "cell_type": "markdown",
   "metadata": {},
   "source": [
    "As an emergency rescue team leader of a city, you are given a special map of your country. The map shows several scattered cities connected by some roads. Amount of rescue teams in each city and the length of each road between any pair of cities are marked on the map. When there is an emergency call to you from some other city, your job is to lead your men to the place as quickly as possible, and at the mean time, call up as many hands on the way as possible."
   ]
  },
  {
   "cell_type": "markdown",
   "metadata": {},
   "source": [
    "### Input Specification:"
   ]
  },
  {
   "cell_type": "markdown",
   "metadata": {},
   "source": [
    "Each input file contains one test case. For each test case, the first line contains 4 positive integers: $N (\\leq 500)$- the number of cities (and the cities are numbered from 0 to N−1), M - the number of roads, $C_{1}$and$C_{2}$ - the cities that you are currently in and that you must save, respectively. The next line contains N integers, where the i-th integer is the number of rescue teams in the i-th city. Then M lines follow, each describes a road with three integers $c_{1}$and$c_{2}$and L,which are the pair of cities connected by a road and the length of that road, respectively. It is guaranteed that there exists at least one path from $C_{1}$and$C_{2}$."
   ]
  },
  {
   "cell_type": "markdown",
   "metadata": {},
   "source": [
    "### Output Specification:"
   ]
  },
  {
   "cell_type": "markdown",
   "metadata": {},
   "source": [
    "For each test case, print in one line two numbers: the number of different shortest paths between $C_{1}$and $C_{2}$, and the maximum amount of rescue teams you can possibly gather. All the numbers in a line must be separated by exactly one space, and there is no extra space allowed at the end of a line."
   ]
  },
  {
   "cell_type": "markdown",
   "metadata": {},
   "source": [
    "### Sample Input:"
   ]
  },
  {
   "cell_type": "raw",
   "metadata": {},
   "source": [
    "5 6 0 2\n",
    "1 2 1 5 3\n",
    "0 1 1\n",
    "0 2 2\n",
    "0 3 1\n",
    "1 2 1\n",
    "2 4 1\n",
    "3 4 1"
   ]
  },
  {
   "cell_type": "markdown",
   "metadata": {},
   "source": [
    "### Sample Output:"
   ]
  },
  {
   "cell_type": "raw",
   "metadata": {},
   "source": [
    "2 4"
   ]
  },
  {
   "cell_type": "markdown",
   "metadata": {},
   "source": [
    "把点到点的距离储存在邻接矩阵里，然后用dfs计算点到点的距离。"
   ]
  },
  {
   "cell_type": "code",
   "execution_count": 192,
   "metadata": {},
   "outputs": [
    {
     "name": "stdout",
     "output_type": "stream",
     "text": [
      "5 6 0 2 \n",
      "1 2 1 5 3\n",
      "0 1 1\n",
      "0 2 2\n",
      "0 3 1\n",
      "1 2 1\n",
      "2 4 1\n",
      "3 4 1\n",
      "2 4\n"
     ]
    }
   ],
   "source": [
    "inf = float('inf')\n",
    "citynum,roadnum,start,end = list(map(int,input().split()))\n",
    "num = list(map(int,input().split()))\n",
    "roads = [[inf for i in range(citynum)] for i in range(citynum)]\n",
    "cnt = 0\n",
    "min_road = inf\n",
    "max_res = 0\n",
    "visit = [0 for i in range(citynum)]\n",
    "for i in range(roadnum):\n",
    "    city1,city2,road = list(map(int,input().split()))\n",
    "    roads[city1][city2] = road\n",
    "    roads[city2][city1] = road\n",
    "    \n",
    "def dfs(start,end,road,resue):\n",
    "    global min_road,cnt,roads,max_res,visit\n",
    "    if start == end:\n",
    "        if road < min_road:\n",
    "            min_road = road\n",
    "            cnt = 1\n",
    "            max_res = resue\n",
    "        elif road == min_road:\n",
    "            cnt += 1\n",
    "            if max_res < resue:\n",
    "                max_res = resue\n",
    "    #这里必须要写一个这个来跳出递归，否则就超时\n",
    "    if road > min_road:\n",
    "        return 1\n",
    "    for i in range(citynum):\n",
    "        if visit[i] == 0 and roads[start][i] != inf:\n",
    "            visit[i] = 1\n",
    "            dfs(i,end,road+roads[start][i],resue+num[i])\n",
    "            visit[i] = 0\n",
    "\n",
    "visit[start] = 1\n",
    "dfs(start,end,0,num[start])\n",
    "print(cnt,max_res)"
   ]
  },
  {
   "cell_type": "markdown",
   "metadata": {},
   "source": [
    "## 1004 Counting Leaves (30point(s))"
   ]
  },
  {
   "cell_type": "markdown",
   "metadata": {},
   "source": [
    "A family hierarchy is usually presented by a pedigree tree. Your job is to count those family members who have no child."
   ]
  },
  {
   "cell_type": "markdown",
   "metadata": {},
   "source": [
    "### Input Specification:"
   ]
  },
  {
   "cell_type": "markdown",
   "metadata": {},
   "source": [
    "Each input file contains one test case. Each case starts with a line containing 0<N<100, the number of nodes in a tree, and M (<N), the number of non-leaf nodes. Then M lines follow, each in the format:"
   ]
  },
  {
   "cell_type": "raw",
   "metadata": {},
   "source": [
    "ID K ID[1] ID[2] ... ID[K]"
   ]
  },
  {
   "cell_type": "markdown",
   "metadata": {},
   "source": [
    "where ID is a two-digit number representing a given non-leaf node, K is the number of its children, followed by a sequence of two-digit ID's of its children. For the sake of simplicity, let us fix the root ID to be 01.\n",
    "<br/>The input ends with N being 0. That case must NOT be processed."
   ]
  },
  {
   "cell_type": "markdown",
   "metadata": {},
   "source": [
    "### Output Specification:"
   ]
  },
  {
   "cell_type": "markdown",
   "metadata": {},
   "source": [
    "For each test case, you are supposed to count those family members who have no child for every seniority level starting from the root. The numbers must be printed in a line, separated by a space, and there must be no extra space at the end of each line.\n",
    "\n",
    "The sample case represents a tree with only 2 nodes, where 01 is the root and 02 is its only child. Hence on the root 01 level, there is 0 leaf node; and on the next level, there is 1 leaf node. Then we should output 0 1 in a line."
   ]
  },
  {
   "cell_type": "markdown",
   "metadata": {},
   "source": [
    "### Sample Input:"
   ]
  },
  {
   "cell_type": "raw",
   "metadata": {},
   "source": [
    "2 1\n",
    "01 1 02"
   ]
  },
  {
   "cell_type": "markdown",
   "metadata": {},
   "source": [
    "### Sample Output:"
   ]
  },
  {
   "cell_type": "raw",
   "metadata": {},
   "source": [
    "0 1"
   ]
  },
  {
   "cell_type": "markdown",
   "metadata": {},
   "source": [
    "输入第一行的第一个数代表总的结点个数，第二个数代表非叶子结点的个数。之后每个非叶子结点逐行输入，所以一共会输入m行。输出该节点的孩子结点中叶子结点的个数，中间以空格分隔。"
   ]
  },
  {
   "cell_type": "code",
   "execution_count": 205,
   "metadata": {},
   "outputs": [
    {
     "name": "stdout",
     "output_type": "stream",
     "text": [
      "2 1\n",
      "01 1 02\n",
      "0 1\n"
     ]
    }
   ],
   "source": [
    "res = {}\n",
    "n,m = map(int,input().split())\n",
    "for i in range(m):\n",
    "    temp = list(input().split())\n",
    "    ID = temp[0]\n",
    "    num = temp[1]\n",
    "    node = temp[2:]\n",
    "    res[ID] = node\n",
    "\n",
    "output = []\n",
    "now = ['01']\n",
    "while 1:\n",
    "    cnt = 0\n",
    "    level = []\n",
    "    for i in now:\n",
    "        #查找有无孩子，有的话就更新下一层，没有的话就更新计数器\n",
    "        if res.get(i):\n",
    "            level += res.get(i)\n",
    "        else:\n",
    "            cnt += 1\n",
    "    now = level\n",
    "    output.append(str(cnt))\n",
    "    if level == []:\n",
    "        break\n",
    "print(\" \".join(output))"
   ]
  },
  {
   "cell_type": "markdown",
   "metadata": {},
   "source": [
    "## 1005 Spell It Right (20point(s))"
   ]
  },
  {
   "cell_type": "markdown",
   "metadata": {},
   "source": [
    "Given a non-negative integer N, your task is to compute the sum of all the digits of N, and output every digit of the sum in English.\n",
    "### Input Specification:\n",
    "Each input file contains one test case. Each case occupies one line which contains an $N (\\leq 10^{100}).$\n",
    "### Output Specification:\n",
    "For each test case, output in one line the digits of the sum in English words. There must be one space between two consecutive words, but no extra space at the end of a line.\n",
    "### Sample Input:"
   ]
  },
  {
   "cell_type": "raw",
   "metadata": {},
   "source": [
    "12345"
   ]
  },
  {
   "cell_type": "markdown",
   "metadata": {},
   "source": [
    "### Sample Output:"
   ]
  },
  {
   "cell_type": "raw",
   "metadata": {},
   "source": [
    "one five"
   ]
  },
  {
   "cell_type": "code",
   "execution_count": 220,
   "metadata": {},
   "outputs": [
    {
     "name": "stdout",
     "output_type": "stream",
     "text": [
      "12345\n",
      "one five\n"
     ]
    }
   ],
   "source": [
    "num = int(input())\n",
    "res = []\n",
    "res_1 = 0\n",
    "alpha = ['zero','one','two','three','four','five','six','seven','eight','nine']\n",
    "#注意考虑输入为0的情况\n",
    "if num == 0:\n",
    "    print('zero')\n",
    "else:\n",
    "    while num:\n",
    "        res_1 += num%10\n",
    "        num //= 10\n",
    "    while res_1:\n",
    "        res.append(alpha[res_1%10])\n",
    "        res_1 //= 10\n",
    "    res = res[::-1]\n",
    "    print(\" \".join(res))"
   ]
  }
 ],
 "metadata": {
  "kernelspec": {
   "display_name": "Python 3",
   "language": "python",
   "name": "python3"
  },
  "language_info": {
   "codemirror_mode": {
    "name": "ipython",
    "version": 3
   },
   "file_extension": ".py",
   "mimetype": "text/x-python",
   "name": "python",
   "nbconvert_exporter": "python",
   "pygments_lexer": "ipython3",
   "version": "3.7.3"
  }
 },
 "nbformat": 4,
 "nbformat_minor": 2
}
