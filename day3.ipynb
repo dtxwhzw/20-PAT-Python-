{
 "cells": [
  {
   "cell_type": "markdown",
   "metadata": {},
   "source": [
    "## 1011 World Cup Betting (20point(s))\n",
    "With the 2010 FIFA World Cup running, football fans the world over were becoming increasingly excited as the best players from the best teams doing battles for the World Cup trophy in South Africa. Similarly, football betting fans were putting their money where their mouths were, by laying all manner of World Cup bets.\n",
    "\n",
    "Chinese Football Lottery provided a \"Triple Winning\" game. The rule of winning was simple: first select any three of the games. Then for each selected game, bet on one of the three possible results -- namely W for win, T for tie, and L for lose. There was an odd assigned to each result. The winner's odd would be the product of the three odds times 65%.\n",
    "\n",
    "For example, 3 games' odds are given as the following:"
   ]
  },
  {
   "cell_type": "raw",
   "metadata": {},
   "source": [
    " W    T    L\n",
    "1.1  2.5  1.7\n",
    "1.2  3.1  1.6\n",
    "4.1  1.2  1.1"
   ]
  },
  {
   "cell_type": "markdown",
   "metadata": {},
   "source": [
    "To obtain the maximum profit, one must buy W for the 3rd game, T for the 2nd game, and T for the 1st game. If each bet takes 2 yuans, then the maximum profit would be (4.1×3.1×2.5×65%−1)×2=39.31 yuans (accurate up to 2 decimal places).\n",
    "\n",
    "### Input Specification:\n",
    "Each input file contains one test case. Each case contains the betting information of 3 games. Each game occupies a line with three distinct odds corresponding to W, T and L.\n",
    "\n",
    "### Output Specification:\n",
    "For each test case, print in one line the best bet of each game, and the maximum profit accurate up to 2 decimal places. The characters and the number must be separated by one space.\n",
    "\n",
    "Sample Input:"
   ]
  },
  {
   "cell_type": "raw",
   "metadata": {},
   "source": [
    "1.1 2.5 1.7\n",
    "1.2 3.1 1.6\n",
    "4.1 1.2 1.1"
   ]
  },
  {
   "cell_type": "markdown",
   "metadata": {},
   "source": [
    "### Sample Output:"
   ]
  },
  {
   "cell_type": "raw",
   "metadata": {},
   "source": [
    "T T W 39.31"
   ]
  },
  {
   "cell_type": "code",
   "execution_count": 15,
   "metadata": {},
   "outputs": [
    {
     "name": "stdout",
     "output_type": "stream",
     "text": [
      "1.1 2.5 1.7\n",
      "1.2 3.1 1.6\n",
      "4.1 1.2 1.1\n",
      "T T W 39.31\n"
     ]
    }
   ],
   "source": [
    "res = 1\n",
    "res_1 = []\n",
    "x = ['W','T','L']\n",
    "for i in range(3):\n",
    "    game = list(map(float,input().split()))\n",
    "    res *= sorted(game,reverse = True)[0]\n",
    "    res_1.append(x[game.index(sorted(game,reverse = True)[0])])\n",
    "num = round((res*0.65-1)*2,2)\n",
    "res_1.append(str(num))\n",
    "print(\" \".join(res_1))"
   ]
  },
  {
   "cell_type": "markdown",
   "metadata": {},
   "source": [
    "## 1012 The Best Rank (25point(s))\n",
    "To evaluate the performance of our first year CS majored students, we consider their grades of three courses only: C - C Programming Language, M - Mathematics (Calculus or Linear Algrbra), and E - English. At the mean time, we encourage students by emphasizing on their best ranks -- that is, among the four ranks with respect to the three courses and the average grade, we print the best rank for each student.\n",
    "\n",
    "For example, The grades of C, M, E and A - Average of 4 students are given as the following:"
   ]
  },
  {
   "cell_type": "raw",
   "metadata": {},
   "source": [
    "StudentID  C  M  E  A\n",
    "310101     98 85 88 90\n",
    "310102     70 95 88 84\n",
    "310103     82 87 94 88\n",
    "310104     91 91 91 91"
   ]
  },
  {
   "cell_type": "markdown",
   "metadata": {},
   "source": [
    "Then the best ranks for all the students are No.1 since the 1st one has done the best in C Programming Language, while the 2nd one in Mathematics, the 3rd one in English, and the last one in average.\n",
    "\n",
    "### Input Specification:\n",
    "Each input file contains one test case. Each case starts with a line containing 2 numbers N and M (≤2000), which are the total number of students, and the number of students who would check their ranks, respectively. Then N lines follow, each contains a student ID which is a string of 6 digits, followed by the three integer grades (in the range of [0, 100]) of that student in the order of C, M and E. Then there are M lines, each containing a student ID.\n",
    "\n",
    "### Output Specification:\n",
    "For each of the M students, print in one line the best rank for him/her, and the symbol of the corresponding rank, separated by a space.\n",
    "\n",
    "The priorities of the ranking methods are ordered as A > C > M > E. Hence if there are two or more ways for a student to obtain the same best rank, output the one with the highest priority.\n",
    "\n",
    "If a student is not on the grading list, simply output N/A.\n",
    "\n",
    "### Sample Input:"
   ]
  },
  {
   "cell_type": "raw",
   "metadata": {},
   "source": [
    "5 6\n",
    "310101 98 85 88\n",
    "310102 70 95 88\n",
    "310103 82 87 94\n",
    "310104 91 91 91\n",
    "310105 85 90 90\n",
    "310101\n",
    "310102\n",
    "310103\n",
    "310104\n",
    "310105\n",
    "999999"
   ]
  },
  {
   "cell_type": "markdown",
   "metadata": {},
   "source": [
    "### Sample Output:"
   ]
  },
  {
   "cell_type": "raw",
   "metadata": {},
   "source": [
    "1 C\n",
    "1 M\n",
    "1 E\n",
    "1 A\n",
    "3 A\n",
    "N/A"
   ]
  },
  {
   "cell_type": "code",
   "execution_count": 70,
   "metadata": {},
   "outputs": [
    {
     "name": "stdout",
     "output_type": "stream",
     "text": [
      "5 6\n",
      "310101 98 85 88\n",
      "310102 70 95 88\n",
      "310103 82 87 94\n",
      "310104 91 91 91\n",
      "310105 85 90 90\n",
      "310101\n",
      "1 C\n",
      "310102\n",
      "1 M\n",
      "310103\n",
      "1 E\n",
      "310104\n",
      "1 A\n",
      "310105\n",
      "3 A\n",
      "310106\n",
      "N/A\n"
     ]
    }
   ],
   "source": [
    "m,n = map(int,input().split())\n",
    "data = {}\n",
    "courses = ['A','C','M','E']\n",
    "course_a = []\n",
    "course_c = []\n",
    "course_m = []\n",
    "course_e = []\n",
    "res = []\n",
    "for i in range(m):\n",
    "    student_id,c,m,e = map(int,input().split())\n",
    "    a = round((c+m+e)/3,2)\n",
    "    course_a.append(a)\n",
    "    course_c.append(c)\n",
    "    course_m.append(m)\n",
    "    course_e.append(e)\n",
    "#     grade = [a,c,m,e]\n",
    "#     max_grade = sorted(grade,reverse=True)[0]\n",
    "#     max_index = grade.index(max_grade)\n",
    "#     best = courses[max_index]\n",
    "    data[student_id] = [a,c,m,e]\n",
    "\n",
    "#重新排序\n",
    "course_a.sort(reverse=True)\n",
    "course_c.sort(reverse=True)\n",
    "course_m.sort(reverse=True)\n",
    "course_e.sort(reverse=True)\n",
    "\n",
    "for i in range(n):\n",
    "    student_id = int(input())\n",
    "    if student_id in data.keys():\n",
    "        rank = []\n",
    "        grade = data[student_id] \n",
    "        rank.append(course_a.index(grade[0]) + 1)\n",
    "        rank.append(course_c.index(grade[1]) + 1)\n",
    "        rank.append(course_m.index(grade[2]) + 1)\n",
    "        rank.append(course_e.index(grade[3]) + 1)\n",
    "        best_rank = min(rank)\n",
    "        course = courses[rank.index(best_rank)]\n",
    "        print(best_rank,course)\n",
    "    else:\n",
    "        print('N/A')"
   ]
  },
  {
   "cell_type": "markdown",
   "metadata": {},
   "source": [
    "### 1013 Battle Over Cities (25point(s))\n",
    "It is vitally important to have all the cities connected by highways in a war. If a city is occupied by the enemy, all the highways from/toward that city are closed. We must know immediately if we need to repair any other highways to keep the rest of the cities connected. Given the map of cities which have all the remaining highways marked, you are supposed to tell the number of highways need to be repaired, quickly.\n",
    "\n",
    "For example, if we have 3 cities and 2 highways connecting city $ city_{1}- city_{2}$ and $city_{1} - city_{3}$.Then if $city_{1}$ is occupied by the enemy, we must have 1 highway repaired, that is the highway $city_{2}-city_{3}$. \n",
    "\n",
    "### Input Specification:\n",
    "Each input file contains one test case. Each case starts with a line containing 3 numbers N (<1000), M and K, which are the total number of cities, the number of remaining highways, and the number of cities to be checked, respectively. Then M lines follow, each describes a highway by 2 integers, which are the numbers of the cities the highway connects. The cities are numbered from 1 to N. Finally there is a line containing K numbers, which represent the cities we concern.\n",
    "\n",
    "### Output Specification:\n",
    "For each of the K cities, output in a line the number of highways need to be repaired if that city is lost.\n",
    "\n",
    "### Sample Input:"
   ]
  },
  {
   "cell_type": "raw",
   "metadata": {},
   "source": [
    "3 2 3\n",
    "1 2\n",
    "1 3\n",
    "1 2 3"
   ]
  },
  {
   "cell_type": "markdown",
   "metadata": {},
   "source": [
    "### Sample Output:"
   ]
  },
  {
   "cell_type": "raw",
   "metadata": {},
   "source": [
    "1\n",
    "0\n",
    "0"
   ]
  },
  {
   "cell_type": "markdown",
   "metadata": {},
   "source": [
    "最后一个测试点超时。这道题就是一个dfs，有n个点构成一个连通图，然后去掉一个点，求再把剩下的点构成连通图需要加多少条边。"
   ]
  },
  {
   "cell_type": "code",
   "execution_count": 89,
   "metadata": {},
   "outputs": [
    {
     "name": "stdout",
     "output_type": "stream",
     "text": [
      "3 2 3\n",
      "1 2\n",
      "1 3\n",
      "1 2 3\n",
      "1\n",
      "0\n",
      "0\n"
     ]
    }
   ],
   "source": [
    "def dfs(a):\n",
    "    global city,visit,i\n",
    "    visit[a] = True\n",
    "    for x in city[a]:\n",
    "        if x != i and visit[x] == False:\n",
    "            dfs(x)\n",
    "city = {}\n",
    "m,n,k = map(int,input().split())\n",
    "for i in range(m):\n",
    "    city[i+1] = []\n",
    "for i in range(n):\n",
    "    start,end = map(int,input().split())\n",
    "    city[start].append(end)\n",
    "    city[end].append(start)\n",
    "check = list(map(int,input().split()))\n",
    "for i in check:\n",
    "    visit = [False] * (m+1)\n",
    "    repair = -1\n",
    "    for j in range(1,m+1):\n",
    "        if j != i and visit[j] == False:\n",
    "            dfs(j)\n",
    "            repair += 1\n",
    "    print(repair)"
   ]
  },
  {
   "cell_type": "markdown",
   "metadata": {},
   "source": [
    "## 1014 Waiting in Line (30point(s))\n",
    "Suppose a bank has N windows open for service. There is a yellow line in front of the windows which devides the waiting area into two parts. The rules for the customers to wait in line are:\n",
    "\n",
    "The space inside the yellow line in front of each window is enough to contain a line with M customers. Hence when all the N lines are full, all the customers after (and including) the (NM+1)st one will have to wait in a line behind the yellow line.\n",
    "Each customer will choose the shortest line to wait in when crossing the yellow line. If there are two or more lines with the same length, the customer will always choose the window with the smallest number.\n",
    "$Customer_{i}$ will take $T_{i}$minutes to have his/her transaction processed.\n",
    "The first N customers are assumed to be served at 8:00am.\n",
    "Now given the processing time of each customer, you are supposed to tell the exact time at which a customer has his/her business done.\n",
    "\n",
    "For example, suppose that a bank has 2 windows and each window may have 2 customers waiting inside the yellow line. There are 5 customers waiting with transactions taking 1, 2, 6, 4 and 3 minutes, respectively. At 08:00 in the morning, $Customer_{1}$ is serverd at $Window_{1}$ while $Customer_{2}$ is serverd at $Window_{2}$.$Customer_{3}$ will wait in front of $Window_{1}$ and $Customer_{4}$ will wait in front of $Window_{2}$. $Customer_{5}$ will wait behind the yellow line.\n",
    "\n",
    "At 08:01, $Customer_{1}$ is done and $Customer_{5}$enters the line in front of $Window_{1}$ since that line seems shorter now. $Customer_{2}$ will leave at 08:02, $Customer_{4}$ at 08:06, $Customer_{3}$at 08:07, and finally $Customer_{5}$at 08:10.\n",
    "\n",
    "### Input Specification:\n",
    "Each input file contains one test case. Each case starts with a line containing 4 positive integers: N (≤20, number of windows), M (≤10, the maximum capacity of each line inside the yellow line), K (≤1000, number of customers), and Q (≤1000, number of customer queries).\n",
    "\n",
    "The next line contains K positive integers, which are the processing time of the K customers.\n",
    "\n",
    "The last line contains Q positive integers, which represent the customers who are asking about the time they can have their transactions done. The customers are numbered from 1 to K.\n",
    "\n",
    "### Output Specification:\n",
    "For each of the Q customers, print in one line the time at which his/her transaction is finished, in the format HH:MM where HH is in [08, 17] and MM is in [00, 59]. Note that since the bank is closed everyday after 17:00, for those customers who cannot be served before 17:00, you must output Sorry instead.\n",
    "\n",
    "### Sample Input:"
   ]
  },
  {
   "cell_type": "raw",
   "metadata": {},
   "source": [
    "2 2 7 5\n",
    "1 2 6 4 3 534 2\n",
    "3 4 5 6 7"
   ]
  },
  {
   "cell_type": "markdown",
   "metadata": {},
   "source": [
    "### Sample Output:"
   ]
  },
  {
   "cell_type": "raw",
   "metadata": {},
   "source": [
    "08:07\n",
    "08:06\n",
    "08:10\n",
    "17:00\n",
    "Sorry"
   ]
  },
  {
   "cell_type": "code",
   "execution_count": 149,
   "metadata": {},
   "outputs": [
    {
     "name": "stdout",
     "output_type": "stream",
     "text": [
      "5 3 15 10\n",
      "1 2 6 4 3 534 2 5 8 10 33 22 55 88 77\n",
      "1 2 3 4 5 6 7 8 9 10 11 12 13 14 15\n",
      "08:01\n",
      "08:02\n",
      "08:06\n",
      "08:04\n",
      "08:03\n",
      "08:04\n",
      "08:11\n",
      "08:12\n",
      "08:13\n",
      "08:26\n",
      "09:06\n",
      "09:40\n",
      "09:30\n"
     ]
    }
   ],
   "source": [
    "n,m,k,q = map(int,input().split())\n",
    "time = list(map(int,input().split()))\n",
    "ask = list(map(int,input().split()))\n",
    "line_time = [0 for i in range(n)]\n",
    "dict1 = {}\n",
    "list_wait = []\n",
    "\n",
    "#初始化进入黄线的顾客\n",
    "# list_wait = [[正在服务的]，[等待1]，[等待2]...,[等待m-1]]\n",
    "for j in range(m):\n",
    "    list_start = []\n",
    "    for i in range(n):\n",
    "        if j*n+i >= k:\n",
    "            pass\n",
    "        else:\n",
    "            line_time[i] = line_time[i] + time[j*n+i]\n",
    "            dict1[j*n+i+1] = line_time[i]\n",
    "            list_start.append(line_time[i])\n",
    "    list_wait.append(list_start)\n",
    "\n",
    "'''\n",
    "找到[正在服务的]里最快结束的元素，然后将list_wait列表里的每个子列表对应的元素往前移，相当于队列往前进，然后更新最末端元素，\n",
    "相当于新客户进入黄线。然后将完成时间更新到字典里\n",
    "'''\n",
    "for i in range(n*m,k):\n",
    "    index = list_wait[0].index(min(list_wait[0]))\n",
    "    for l in range(m-1):\n",
    "        list_wait[l][index] = list_wait[l+1][index]\n",
    "    line_time[index] = line_time[index] + time[i]\n",
    "    list_wait[m-1][index] = line_time[index]\n",
    "    dict1[i+1] = line_time[index]\n",
    "\n",
    "#遍历字典找到完成时间\n",
    "for i in ask:\n",
    "    hour = dict1[i]//60 + 8\n",
    "    minute = dict1[i] % 60\n",
    "    time_now = dict1[i] - time[i-1]\n",
    "    if time_now >= 540:\n",
    "        print('Sorry')\n",
    "    elif dict1[i] >= 600:\n",
    "        print('Sorry')\n",
    "    elif hour < 10 and minute < 10:\n",
    "        print('0' + str(hour) + ':' + '0' + str(minute))\n",
    "    elif hour < 10:\n",
    "        print('0' + str(hour) + \":\" + str(minute))\n",
    "    elif minute < 10:\n",
    "        print(str(hour) + \":\" + '0' + str(minute))\n",
    "    else:\n",
    "        print(str(hour) + \":\" + str(minute))"
   ]
  },
  {
   "cell_type": "code",
   "execution_count": 151,
   "metadata": {},
   "outputs": [
    {
     "data": {
      "text/plain": [
       "[568, 26, 66, 100, 90]"
      ]
     },
     "execution_count": 151,
     "metadata": {},
     "output_type": "execute_result"
    }
   ],
   "source": [
    "line_time"
   ]
  },
  {
   "cell_type": "markdown",
   "metadata": {},
   "source": [
    "## 1015 Reversible Primes (20point(s))\n",
    "A reversible prime in any number system is a prime whose \"reverse\" in that number system is also a prime. For example in the decimal system 73 is a reversible prime because its reverse 37 is also a prime.\n",
    "\n",
    "Now given any two positive integers N (<$10^{5}$) and D (1<D≤10), you are supposed to tell if N is a reversible prime with radix D.\n",
    "\n",
    "### Input Specification:\n",
    "The input file consists of several test cases. Each case occupies a line which contains two integers N and D. The input is finished by a negative N.\n",
    "\n",
    "### Output Specification:\n",
    "For each test case, print in one line Yes if N is a reversible prime with radix D, or No if not.\n",
    "\n",
    "### Sample Input:"
   ]
  },
  {
   "cell_type": "raw",
   "metadata": {},
   "source": [
    "73 10\n",
    "23 2\n",
    "23 10\n",
    "-2"
   ]
  },
  {
   "cell_type": "markdown",
   "metadata": {},
   "source": [
    "### Sample Output:"
   ]
  },
  {
   "cell_type": "raw",
   "metadata": {},
   "source": [
    "Yes\n",
    "Yes\n",
    "No"
   ]
  },
  {
   "cell_type": "code",
   "execution_count": 132,
   "metadata": {},
   "outputs": [
    {
     "name": "stdout",
     "output_type": "stream",
     "text": [
      "23 10\n",
      "No\n",
      "73 10\n",
      "Yes\n",
      "23 2\n",
      "Yes\n",
      "-2\n"
     ]
    }
   ],
   "source": [
    "import math\n",
    "def isprime(num):\n",
    "    if num <= 1:\n",
    "        return 0\n",
    "    flag = 1\n",
    "    for i in range(2,round(math.sqrt(num)+1)):\n",
    "        if num % i == 0:\n",
    "            flag = 0\n",
    "            return flag\n",
    "    return flag\n",
    "def change(num,base):\n",
    "    res = 0\n",
    "    while num:\n",
    "        res *= 10\n",
    "        res += num%base\n",
    "        num //= base\n",
    "    return res\n",
    "if __name__ == '__main__':\n",
    "    while True:\n",
    "        num = list(map(int,input().split()))\n",
    "        if len(num)<2:\n",
    "            break\n",
    "        x,y = num[0],num[1]\n",
    "        flag = \"No\"\n",
    "        if isprime(x) == 1:\n",
    "            change_x = str(change(x,y))\n",
    "            reverse_x = change_x[::-1]\n",
    "            if isprime(int(change_x,y)) == 1:\n",
    "                flag = 'Yes'\n",
    "        print(flag)"
   ]
  }
 ],
 "metadata": {
  "kernelspec": {
   "display_name": "Python 3",
   "language": "python",
   "name": "python3"
  },
  "language_info": {
   "codemirror_mode": {
    "name": "ipython",
    "version": 3
   },
   "file_extension": ".py",
   "mimetype": "text/x-python",
   "name": "python",
   "nbconvert_exporter": "python",
   "pygments_lexer": "ipython3",
   "version": "3.7.3"
  }
 },
 "nbformat": 4,
 "nbformat_minor": 2
}
